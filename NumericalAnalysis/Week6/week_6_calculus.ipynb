{
 "cells": [
  {
   "cell_type": "markdown",
   "metadata": {},
   "source": [
    "# Part I. One-sided finite differences"
   ]
  },
  {
   "cell_type": "markdown",
   "metadata": {},
   "source": [
    "Write a function, `deriv`, which computes a derivative of its argument at a given point, $x$, using a one-sided finite difference rule with a given step side $h$, with the approximation order of $O(h^2)$. "
   ]
  },
  {
   "cell_type": "code",
   "execution_count": 36,
   "metadata": {},
   "outputs": [],
   "source": [
    "def deriv(f, x, h):\n",
    "    \"\"\" Compute a derivative of `f` at point `x` with step size `h`.\n",
    "    \n",
    "    Compute the derivative using the one-sided rule of the approximation order of $O(h^2)$.\n",
    "    \n",
    "    Parameters\n",
    "    ----------\n",
    "    f : callable\n",
    "        The function to differentiate\n",
    "    x : float\n",
    "        The point to compute the derivative at.\n",
    "    h : float\n",
    "        The step size for the finite different rule.\n",
    "        \n",
    "    Returns\n",
    "    -------\n",
    "    fder : derivative of f(x) at point x using the step size h.\n",
    "    \"\"\"\n",
    "    # ... ENTER YOUR CODE HERE ...\n",
    "    x_up = x + h\n",
    "    dx = x_up - x\n",
    "    df = f(x_up) - f(x)\n",
    "    return df / dx"
   ]
  },
  {
   "cell_type": "code",
   "execution_count": 37,
   "metadata": {},
   "outputs": [],
   "source": [
    "def bad_deriv(f, x, h):\n",
    "    # ... ENTER YOUR CODE HERE ...\n",
    "    x_up = x + h\n",
    "    df = f(x_up) - f(x)\n",
    "    return df / h"
   ]
  },
  {
   "cell_type": "markdown",
   "metadata": {},
   "source": [
    "#### Test I.1\n",
    "\n",
    "Test your function on a simple test case: differentiate $f(x) = x^3$ at $x=0$. Comment on whether your results are consistent with the expected value of $f'(x) = 0$ and on an expected scaling with $h\\to 0$.\n",
    "\n",
    " (10% of the total grade)"
   ]
  },
  {
   "cell_type": "code",
   "execution_count": 38,
   "metadata": {},
   "outputs": [
    {
     "name": "stdout",
     "output_type": "stream",
     "text": [
      "0.010000 --  0.0001\n",
      "0.001000 --   1e-06\n",
      "0.000100 --   1e-08\n",
      "0.000010 --   1e-10\n"
     ]
    },
    {
     "data": {
      "text/plain": [
       "<matplotlib.legend.Legend at 0x121b98e6e48>"
      ]
     },
     "execution_count": 38,
     "metadata": {},
     "output_type": "execute_result"
    },
    {
     "data": {
      "image/png": "[encoded data removed]",
      "text/plain": [
       "<Figure size 432x288 with 1 Axes>"
      ]
     },
     "metadata": {
      "needs_background": "light"
     },
     "output_type": "display_data"
    }
   ],
   "source": [
    "x = 0\n",
    "for h in [1e-2, 1e-3, 1e-4, 1e-5]:\n",
    "    err = deriv(lambda x: x**3, x, h)\n",
    "    print(\"%5f -- %7.4g\" % (h, err))\n",
    "    \n",
    "import numpy as np\n",
    "import matplotlib.pyplot as plt\n",
    "plt.plot([np.exp(-i) for i in range(16)], [deriv(lambda x: x**3, x, np.exp(-i)) for i in range(16)], label='deriv')\n",
    "plt.plot([np.exp(-i) for i in range(16)], [bad_deriv(lambda x: x**3, x, np.exp(-i)) for i in range(16)], label='bad deriv')\n",
    "plt.legend()"
   ]
  },
  {
   "cell_type": "markdown",
   "metadata": {},
   "source": [
    " ... ENTER YOUR COMMENTS HERE ...\n",
    " the errors seem to be decreasing with decreasing value of x."
   ]
  },
  {
   "cell_type": "markdown",
   "metadata": {},
   "source": [
    "### Test I.2\n",
    "\n",
    "Now use a slightly more complicated function, $f(x) = x^2 \\log{x}$, evaluate the derivative at $x=1$ using your one-sided rule and a two-point one-sided rule. Roughly estimate the value of $h$ where the error stops decreasing, for these two schemes. \n",
    "(15% of the total grade)"
   ]
  },
  {
   "cell_type": "code",
   "execution_count": 39,
   "metadata": {},
   "outputs": [],
   "source": [
    "from math import log\n",
    "\n",
    "def f(x):\n",
    "    return x**2 * log(x)\n",
    "    \n",
    "def fder(x):\n",
    "    return x * (2.*log(x) + 1)"
   ]
  },
  {
   "cell_type": "code",
   "execution_count": 40,
   "metadata": {},
   "outputs": [],
   "source": [
    "def derive_two_sided(f, x, h):\n",
    "    x_up = x + h\n",
    "    x_down = x - h\n",
    "    dx = x_up - x_down\n",
    "    df = f(x_up) - f(x_down)\n",
    "    return df / dx"
   ]
  },
  {
   "cell_type": "code",
   "execution_count": 42,
   "metadata": {},
   "outputs": [
    {
     "name": "stdout",
     "output_type": "stream",
     "text": [
      "Deriv: 0.010000 -- 0.01503\n",
      "Deriv: 0.001000 --  0.0015\n",
      "Deriv: 0.000100 -- 0.00015\n",
      "Deriv: 0.000010 -- 1.5e-05\n",
      "tow sided deriv: 0.010000 -- 3.333e-05\n",
      "tow sided deriv: 0.001000 -- 3.333e-07\n",
      "tow sided deriv: 0.000100 -- 3.333e-09\n",
      "tow sided deriv: 0.000010 -- 3.333e-11\n",
      "bad deriv: 0.010000 -- 0.01503\n",
      "bad deriv: 0.001000 --  0.0015\n",
      "bad deriv: 0.000100 -- 0.00015\n",
      "bad deriv: 0.000010 -- 1.5e-05\n"
     ]
    },
    {
     "data": {
      "text/plain": [
       "<matplotlib.legend.Legend at 0x121b99e43c8>"
      ]
     },
     "execution_count": 42,
     "metadata": {},
     "output_type": "execute_result"
    },
    {
     "data": {
      "image/png": "[encoded data removed]",
      "text/plain": [
       "<Figure size 432x288 with 1 Axes>"
      ]
     },
     "metadata": {
      "needs_background": "light"
     },
     "output_type": "display_data"
    }
   ],
   "source": [
    "# ... ENTER YOUR CODE HERE ...\n",
    "x = 1\n",
    "for h in [1e-2, 1e-3, 1e-4, 1e-5]:\n",
    "    err = deriv(f, x, h) - fder(x)\n",
    "    print(\"Deriv: %5f -- %7.4g\" % (h, err))\n",
    "    \n",
    "for h in [1e-2, 1e-3, 1e-4, 1e-5]:\n",
    "    err = derive_two_sided(f, x, h) - fder(x)\n",
    "    print(\"tow sided deriv: %5f -- %7.4g\" % (h, err))\n",
    "    \n",
    "for h in [1e-2, 1e-3, 1e-4, 1e-5]:\n",
    "    err = bad_deriv(f, x, h) - fder(x)\n",
    "    print(\"bad deriv: %5f -- %7.4g\" % (h, err))\n",
    "    \n",
    "    \n",
    "import numpy as np\n",
    "import matplotlib.pyplot as plt\n",
    "h = np.array([10**(-i) for i in range(2,16)])\n",
    "plt.plot(h, np.array([derive_two_sided(f, x, ih) for ih in h]) - fder(x), label='deriv - two sided')\n",
    "plt.plot(h, np.array([deriv(f, x, ih) for ih in h]) - fder(x), label='deriv-one sided')\n",
    "plt.plot(h, np.array([bad_deriv(f, x, ih) for ih in h]) - fder(x), label='bad deriv - one sided')\n",
    "\n",
    "plt.legend()"
   ]
  },
  {
   "cell_type": "markdown",
   "metadata": {},
   "source": [
    "### Test I.3 \n",
    "\n",
    "Now try differentiating $x^2 \\log(x)$ at $x=0$. Use the three-point one-sided rule. Note that to evaluate the function at zero, you need to special-case this value. Check the scaling of the error with $h$, explain your results. \n",
    "(25% of the total grade)"
   ]
  },
  {
   "cell_type": "code",
   "execution_count": 43,
   "metadata": {},
   "outputs": [
    {
     "name": "stdout",
     "output_type": "stream",
     "text": [
      "0.010000 -- -0.04605\n",
      "0.001000 -- -0.006908\n",
      "0.000100 -- -0.000921\n",
      "0.000010 -- -0.0001151\n"
     ]
    }
   ],
   "source": [
    "def f(x):\n",
    "    if x == 0:\n",
    "        # the limit of $x^2 log(x)$ at $x-> 0$ is zero, even though log(x) is undefined at x=0\n",
    "        return 0.0\n",
    "    else:\n",
    "        return x**2 * log(x)\n",
    "    \n",
    "def fder(x):\n",
    "    if x == 0:\n",
    "        return 0.0\n",
    "    else:\n",
    "        return x*(2*log(x) + 1)\n",
    "\n",
    "x = 0\n",
    "for h in [1e-2, 1e-3, 1e-4, 1e-5]:\n",
    "    err = deriv(f, x, h) - fder(x)\n",
    "    print(\"%5f -- %7.4g\" % (h, err))"
   ]
  },
  {
   "cell_type": "markdown",
   "metadata": {},
   "source": [
    "... ENTER YOUR EXPLANATION HERE ..."
   ]
  },
  {
   "cell_type": "code",
   "execution_count": null,
   "metadata": {},
   "outputs": [],
   "source": [
    "def higher_order_deriv(f, x, h):\n",
    "    x1 = x + h #keeping them consistent \n",
    "    x2 = x + 2 * h\n",
    "    dx = x1 - x\n",
    "    fder = ((-3/2) * f(x) \n",
    "            +  2 * f(x1) \n",
    "            - (1/2) * f(x2)) / dx #This formula was written by Evgeny in \"Higher order schemes\" lesson\n",
    "    return fder "
   ]
  },
  {
   "cell_type": "markdown",
   "metadata": {},
   "source": [
    "# Part II. Midpoint rule "
   ]
  },
  {
   "cell_type": "markdown",
   "metadata": {},
   "source": [
    "Write a function which computes a definite integral using the midpoint rule up to a given error, $\\epsilon$. Estimate the error by comparing the estimates of the integral at $N$ and $2N$ elementary intervals. "
   ]
  },
  {
   "cell_type": "code",
   "execution_count": 102,
   "metadata": {},
   "outputs": [],
   "source": [
    "def midpoint_rule(func, a, b, eps):\n",
    "    \"\"\" Calculate the integral of f from a to b using the midpoint rule.\n",
    "    \n",
    "    Parameters\n",
    "    ----------\n",
    "    func : callable\n",
    "        The function to integrate.\n",
    "    a : float\n",
    "        The lower limit of integration.\n",
    "    b : float\n",
    "        The upper limit of integration.\n",
    "    eps : float\n",
    "        The target accuracy of the estimate.\n",
    "        \n",
    "    Returns\n",
    "    -------\n",
    "    integral : float\n",
    "        The estimate of $\\int_a^b f(x) dx$.\n",
    "    \"\"\"\n",
    "    summ = 0\n",
    "    summ_prev = np.inf\n",
    "    N = 50 #starting with 50 points mesh\n",
    "    i = 0\n",
    "    while(abs(summ - summ_prev) >= eps):\n",
    "        summ_prev = summ\n",
    "        h = (b - a) / N\n",
    "        summ = 0\n",
    "        for j in range(N):\n",
    "            x = a + h*(j+0.5)\n",
    "            summ += func(x) * h\n",
    " \n",
    "        N = 2*N\n",
    "    return summ, N"
   ]
  },
  {
   "cell_type": "markdown",
   "metadata": {},
   "source": [
    "### Test II.1\n",
    "\n",
    "Test your midpoint rule on a simple integral, which you can calculate by paper and pencil.\n",
    "\n",
    "Compare the rate of convergence to the expected $O(N^{-2})$ scaling by studying the number of intervals required for a given accuracy $\\epsilon$.\n",
    "\n",
    "Compare the numerical results to the value you calculated by hand. Does the deviation agree with your estimate of the numerical error?\n",
    "(20% of the total grade)\n"
   ]
  },
  {
   "cell_type": "code",
   "execution_count": 103,
   "metadata": {},
   "outputs": [],
   "source": [
    "def func(x):\n",
    "    return x**3"
   ]
  },
  {
   "cell_type": "code",
   "execution_count": 109,
   "metadata": {},
   "outputs": [
    {
     "data": {
      "text/plain": [
       "(0.2499875, 200)"
      ]
     },
     "execution_count": 109,
     "metadata": {},
     "output_type": "execute_result"
    }
   ],
   "source": [
    "eps =  0.001\n",
    "midpoint_rule(func, 0, 1, eps)"
   ]
  },
  {
   "cell_type": "code",
   "execution_count": 94,
   "metadata": {},
   "outputs": [],
   "source": [
    "def midrect(func, a, b, N):\n",
    "    h = (b - a) / N\n",
    "    summ = 0\n",
    "    for j in range(N):\n",
    "        x = a + h*(j+0.5)\n",
    "        summ += func(x) * h\n",
    "    return summ"
   ]
  },
  {
   "cell_type": "code",
   "execution_count": 95,
   "metadata": {},
   "outputs": [
    {
     "name": "stdout",
     "output_type": "stream",
     "text": [
      "   10 : -0.00125\n",
      "  100 : -1.25e-05\n",
      " 1000 : -1.25e-07\n",
      "10000 : -1.25e-09\n"
     ]
    }
   ],
   "source": [
    "for n in (10, 100, 1000, 10000):\n",
    "    res = midrect(func, 0, 1, n)\n",
    "    print(\"%5.5g : %g\" %(n, res - 0.25))"
   ]
  },
  {
   "cell_type": "markdown",
   "metadata": {},
   "source": [
    "looks like the error here is decreasing as square of the number of steps. "
   ]
  },
  {
   "cell_type": "markdown",
   "metadata": {},
   "source": [
    "### Test II.2\n",
    "\n",
    "Now use your midpoint rule to compute the value of\n",
    "\n",
    "$$\n",
    "\\int_0^1\\! \\frac{\\sin{\\sqrt{x}}}{x}\\, dx\n",
    "$$\n",
    "\n",
    "up to a predefined accuracy of $\\epsilon=10^{-4}$.\n",
    "\n",
    "Note that the integral contains an integrable singularity at the lower limit. Do calculations two ways: first, do a straightforward computation; next, subtract the singularity. Compare the number of iterations required to achieve the accuracy of $\\epsilon$.\n",
    "\n",
    "(30% of the total grade)"
   ]
  },
  {
   "cell_type": "code",
   "execution_count": 62,
   "metadata": {},
   "outputs": [],
   "source": [
    "# ... ENTER YOUR CODE HERE ...\n",
    "def sinfunc(x):\n",
    "    return np.sin(np.sqrt(x)) / x"
   ]
  },
  {
   "cell_type": "code",
   "execution_count": 71,
   "metadata": {},
   "outputs": [
    {
     "name": "stdout",
     "output_type": "stream",
     "text": [
      "   10 : 1.7008\n",
      "  100 : 1.83167\n",
      " 1000 : 1.87304\n",
      "10000 : 1.88612\n"
     ]
    }
   ],
   "source": [
    "for n in (10, 100, 1000, 10000):\n",
    "    res = midpoint_rule(sinfunc, 0, 1, n)\n",
    "    print(\"%5.5g : %g\" %(n, res))"
   ]
  },
  {
   "cell_type": "code",
   "execution_count": 72,
   "metadata": {},
   "outputs": [],
   "source": [
    "def sinfunc_adjusted(x):\n",
    "    return (np.sin(np.sqrt(x)) / x) - (1/np.sqrt(x))"
   ]
  },
  {
   "cell_type": "code",
   "execution_count": 73,
   "metadata": {},
   "outputs": [
    {
     "name": "stdout",
     "output_type": "stream",
     "text": [
      "   10 : 1.89188\n",
      "  100 : 1.89216\n",
      " 1000 : 1.89217\n",
      "10000 : 1.89217\n"
     ]
    }
   ],
   "source": [
    "for n in (10, 100, 1000, 10000):\n",
    "    res = midpoint_rule(sinfunc_adjusted, 0, 1, n)\n",
    "    print(\"%5.5g : %g\" %(n, res+2))"
   ]
  },
  {
   "cell_type": "markdown",
   "metadata": {},
   "source": [
    "when I added and sibtracted teh singularity, $\\frac{1}{\\sqrt{x}}$; it converges faster!. I added 2 explicitly because the integral of the singularity added is 2 when integrated from 0 to 1. "
   ]
  },
  {
   "cell_type": "markdown",
   "metadata": {
    "collapsed": true
   },
   "source": [
    "## other codes in the videos"
   ]
  },
  {
   "cell_type": "code",
   "execution_count": 69,
   "metadata": {},
   "outputs": [],
   "source": [
    "def lrect(func, a, b, npts):\n",
    "    \"\"\" left side integral \"\"\"\n",
    "    h = (b - a) / npts\n",
    "    summ = 0\n",
    "    for j in range(npts):\n",
    "        x = a + h*j\n",
    "        summ += func(x) * h\n",
    "    return summ"
   ]
  },
  {
   "cell_type": "code",
   "execution_count": 70,
   "metadata": {},
   "outputs": [
    {
     "name": "stdout",
     "output_type": "stream",
     "text": [
      "   10 : -0.0475\n",
      "  100 : -0.004975\n",
      " 1000 : -0.00049975\n",
      "10000 : -4.99975e-05\n"
     ]
    }
   ],
   "source": [
    "for n in (10, 100, 1000, 10000):\n",
    "    res = lrect(func, 0, 1, n)\n",
    "    print(\"%5.5g : %g\" %(n, res - 0.25))"
   ]
  },
  {
   "cell_type": "markdown",
   "metadata": {},
   "source": [
    "looks like linear scaling. if I increase n by factor of 10; error decrease by factor of 10."
   ]
  },
  {
   "cell_type": "code",
   "execution_count": null,
   "metadata": {},
   "outputs": [],
   "source": []
  }
 ],
 "metadata": {
  "kernelspec": {
   "display_name": "Python 3",
   "language": "python",
   "name": "python3"
  },
  "language_info": {
   "codemirror_mode": {
    "name": "ipython",
    "version": 3
   },
   "file_extension": ".py",
   "mimetype": "text/x-python",
   "name": "python",
   "nbconvert_exporter": "python",
   "pygments_lexer": "ipython3",
   "version": "3.7.6"
  }
 },
 "nbformat": 4,
 "nbformat_minor": 2
}
